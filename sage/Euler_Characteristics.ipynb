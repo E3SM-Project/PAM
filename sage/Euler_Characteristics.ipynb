{
 "cells": [
  {
   "cell_type": "code",
   "execution_count": 5,
   "metadata": {},
   "outputs": [],
   "source": [
    "def coefs_1d(N,N0,lab) :\n",
    "    return vector([ var(lab+'%s'%i) for i in range(N0,N0+N) ])\n",
    "\n",
    "latex.matrix_delimiters(\"[\", \"]\")\n",
    "latex.matrix_column_alignment(align='c')\n"
   ]
  },
  {
   "cell_type": "markdown",
   "metadata": {},
   "source": [
    "# $\\rho$, $\\rho u$, $\\rho v$, $\\rho w$, $\\rho \\theta$"
   ]
  },
  {
   "cell_type": "code",
   "execution_count": null,
   "metadata": {},
   "outputs": [],
   "source": [
    "# X-DIRECTION CHARACTERISTICS\n",
    "var('rho,u,v,w,theta,p,c_s,gamma,C0')\n",
    "\n",
    "assume(c_s>0)\n",
    "\n",
    "q = coefs_1d(5,0,'q')\n",
    "f = vector([ rho*u , rho*u*u+p , rho*u*v , rho*u*w, rho*u*theta ])\n",
    "f = f.subs(rho=q0,u=q1/q0,v=q2/q0,w=q3/q0,theta=q4/q0,p=C0*q4^gamma)\n",
    "dfdq = jacobian(f,q)\n",
    "dfdq = dfdq.subs(q0=rho,q1=rho*u,q2=rho*v,q3=rho*w,q4=rho*theta).subs(C0=p/(rho*theta)^gamma).subs(p=c_s^2/gamma*rho)\n",
    "Lambda,R = dfdq.eigenmatrix_right()\n",
    "Lambda = Matrix(5,5,Lambda.list())\n",
    "L = (R^-1).simplify_full()\n",
    "\n",
    "show(latex(dfdq.simplify_full())+\"=\"+latex(R.simplify_full())+latex(Lambda.simplify_full())+latex(L.simplify_full()))"
   ]
  },
  {
   "cell_type": "code",
   "execution_count": null,
   "metadata": {},
   "outputs": [],
   "source": [
    "# Y-DIRECTION CHARACTERISTICS\n",
    "var('rho,u,v,w,theta,p,c_s,gamma,C0')\n",
    "\n",
    "assume(c_s>0)\n",
    "\n",
    "q = coefs_1d(5,0,'q')\n",
    "f = vector([ rho*v , rho*v*u , rho*v*v+p , rho*v*w, rho*v*theta ])\n",
    "f = f.subs(rho=q0,u=q1/q0,v=q2/q0,w=q3/q0,theta=q4/q0,p=C0*q4^gamma)\n",
    "dfdq = jacobian(f,q)\n",
    "dfdq = dfdq.subs(q0=rho,q1=rho*u,q2=rho*v,q3=rho*w,q4=rho*theta).subs(C0=p/(rho*theta)^gamma).subs(p=c_s^2/gamma*rho)\n",
    "Lambda,R = dfdq.eigenmatrix_right()\n",
    "Lambda = Matrix(5,5,Lambda.list())\n",
    "L = (R^-1).simplify_full()\n",
    "\n",
    "show(latex(dfdq.simplify_full())+\"=\"+latex(R.simplify_full())+latex(Lambda.simplify_full())+latex(L.simplify_full()))"
   ]
  },
  {
   "cell_type": "code",
   "execution_count": null,
   "metadata": {},
   "outputs": [],
   "source": [
    "# Z-DIRECTION CHARACTERISTICS\n",
    "var('rho,u,v,w,theta,p,c_s,gamma,C0')\n",
    "\n",
    "assume(c_s>0)\n",
    "\n",
    "q = coefs_1d(5,0,'q')\n",
    "f = vector([ rho*w , rho*w*u , rho*w*v , rho*w*w+p, rho*w*theta ])\n",
    "f = f.subs(rho=q0,u=q1/q0,v=q2/q0,w=q3/q0,theta=q4/q0,p=C0*q4^gamma)\n",
    "dfdq = jacobian(f,q)\n",
    "dfdq = dfdq.subs(q0=rho,q1=rho*u,q2=rho*v,q3=rho*w,q4=rho*theta).subs(C0=p/(rho*theta)^gamma).subs(p=c_s^2/gamma*rho)\n",
    "Lambda,R = dfdq.eigenmatrix_right()\n",
    "Lambda = Matrix(5,5,Lambda.list())\n",
    "L = (R^-1).simplify_full()\n",
    "\n",
    "show(latex(dfdq.simplify_full())+\"=\"+latex(R.simplify_full())+latex(Lambda.simplify_full())+latex(L.simplify_full()))"
   ]
  },
  {
   "cell_type": "markdown",
   "metadata": {},
   "source": [
    "# $\\rho$, $u$, $v$, $w$, $p$"
   ]
  },
  {
   "cell_type": "code",
   "execution_count": 6,
   "metadata": {},
   "outputs": [
    {
     "data": {
      "text/html": [
       "<html><script type=\"math/tex; mode=display\">\\newcommand{\\Bold}[1]{\\mathbf{#1}}\\left[\\begin{array}{ccccc}\n",
       "u & \\rho & 0 & 0 & 0 \\\\\n",
       "0 & u & 0 & 0 & \\frac{1}{\\rho} \\\\\n",
       "0 & 0 & u & 0 & 0 \\\\\n",
       "0 & 0 & 0 & u & 0 \\\\\n",
       "0 & c_{s}^{2} \\rho & 0 & 0 & u\n",
       "\\end{array}\\right] = \\left[\\begin{array}{ccccc}\n",
       "1 & 1 & 1 & 0 & 0 \\\\\n",
       "-\\frac{c_{s}}{\\rho} & \\frac{c_{s}}{\\rho} & 0 & 0 & 0 \\\\\n",
       "0 & 0 & 0 & 1 & 0 \\\\\n",
       "0 & 0 & 0 & 0 & 1 \\\\\n",
       "c_{s}^{2} & c_{s}^{2} & 0 & 0 & 0\n",
       "\\end{array}\\right] \\left[\\begin{array}{ccccc}\n",
       "-c_{s} + u & 0 & 0 & 0 & 0 \\\\\n",
       "0 & c_{s} + u & 0 & 0 & 0 \\\\\n",
       "0 & 0 & u & 0 & 0 \\\\\n",
       "0 & 0 & 0 & u & 0 \\\\\n",
       "0 & 0 & 0 & 0 & u\n",
       "\\end{array}\\right] \\left[\\begin{array}{ccccc}\n",
       "0 & -\\frac{\\rho}{2 \\, c_{s}} & 0 & 0 & \\frac{1}{2 \\, c_{s}^{2}} \\\\\n",
       "0 & \\frac{\\rho}{2 \\, c_{s}} & 0 & 0 & \\frac{1}{2 \\, c_{s}^{2}} \\\\\n",
       "1 & 0 & 0 & 0 & -\\frac{1}{c_{s}^{2}} \\\\\n",
       "0 & 0 & 1 & 0 & 0 \\\\\n",
       "0 & 0 & 0 & 1 & 0\n",
       "\\end{array}\\right]</script></html>"
      ],
      "text/plain": [
       "\\left[\\begin{array}{ccccc}\n",
       "u & \\rho & 0 & 0 & 0 \\\\\n",
       "0 & u & 0 & 0 & \\frac{1}{\\rho} \\\\\n",
       "0 & 0 & u & 0 & 0 \\\\\n",
       "0 & 0 & 0 & u & 0 \\\\\n",
       "0 & c_{s}^{2} \\rho & 0 & 0 & u\n",
       "\\end{array}\\right] = \\left[\\begin{array}{ccccc}\n",
       "1 & 1 & 1 & 0 & 0 \\\\\n",
       "-\\frac{c_{s}}{\\rho} & \\frac{c_{s}}{\\rho} & 0 & 0 & 0 \\\\\n",
       "0 & 0 & 0 & 1 & 0 \\\\\n",
       "0 & 0 & 0 & 0 & 1 \\\\\n",
       "c_{s}^{2} & c_{s}^{2} & 0 & 0 & 0\n",
       "\\end{array}\\right] \\left[\\begin{array}{ccccc}\n",
       "-c_{s} + u & 0 & 0 & 0 & 0 \\\\\n",
       "0 & c_{s} + u & 0 & 0 & 0 \\\\\n",
       "0 & 0 & u & 0 & 0 \\\\\n",
       "0 & 0 & 0 & u & 0 \\\\\n",
       "0 & 0 & 0 & 0 & u\n",
       "\\end{array}\\right] \\left[\\begin{array}{ccccc}\n",
       "0 & -\\frac{\\rho}{2 \\, c_{s}} & 0 & 0 & \\frac{1}{2 \\, c_{s}^{2}} \\\\\n",
       "0 & \\frac{\\rho}{2 \\, c_{s}} & 0 & 0 & \\frac{1}{2 \\, c_{s}^{2}} \\\\\n",
       "1 & 0 & 0 & 0 & -\\frac{1}{c_{s}^{2}} \\\\\n",
       "0 & 0 & 1 & 0 & 0 \\\\\n",
       "0 & 0 & 0 & 1 & 0\n",
       "\\end{array}\\right]"
      ]
     },
     "metadata": {},
     "output_type": "display_data"
    }
   ],
   "source": [
    "# x-direction\n",
    "var('rho,u,v,w,theta,p,c_s,gamma')\n",
    "assume(c_s>0,rho>0,p>0,gamma>0)\n",
    "dfdq=Matrix(5,5,[u,rho      ,0,0,0,\n",
    "                 0,u        ,0,0,1/rho,\n",
    "                 0,0        ,u,0,0,\n",
    "                 0,0        ,0,u,0,\n",
    "                 0,rho*c_s^2,0,0,u])\n",
    "Lambda,R = dfdq.eigenmatrix_right()\n",
    "Lambda = Matrix(5,5,Lambda.list())\n",
    "L = (R^-1).simplify_full()\n",
    "\n",
    "show(latex(dfdq.simplify_full())+\"=\"+latex(R.simplify_full())+latex(Lambda.simplify_full())+latex(L.simplify_full()))"
   ]
  },
  {
   "cell_type": "code",
   "execution_count": 7,
   "metadata": {},
   "outputs": [
    {
     "data": {
      "text/html": [
       "<html><script type=\"math/tex; mode=display\">\\newcommand{\\Bold}[1]{\\mathbf{#1}}\\left[\\begin{array}{ccccc}\n",
       "v & 0 & \\rho & 0 & 0 \\\\\n",
       "0 & v & 0 & 0 & 0 \\\\\n",
       "0 & 0 & v & 0 & \\frac{1}{\\rho} \\\\\n",
       "0 & 0 & 0 & v & 0 \\\\\n",
       "0 & 0 & c_{s}^{2} \\rho & 0 & v\n",
       "\\end{array}\\right] = \\left[\\begin{array}{ccccc}\n",
       "1 & 1 & 1 & 0 & 0 \\\\\n",
       "0 & 0 & 0 & 1 & 0 \\\\\n",
       "-\\frac{c_{s}}{\\rho} & \\frac{c_{s}}{\\rho} & 0 & 0 & 0 \\\\\n",
       "0 & 0 & 0 & 0 & 1 \\\\\n",
       "c_{s}^{2} & c_{s}^{2} & 0 & 0 & 0\n",
       "\\end{array}\\right] \\left[\\begin{array}{ccccc}\n",
       "-c_{s} + v & 0 & 0 & 0 & 0 \\\\\n",
       "0 & c_{s} + v & 0 & 0 & 0 \\\\\n",
       "0 & 0 & v & 0 & 0 \\\\\n",
       "0 & 0 & 0 & v & 0 \\\\\n",
       "0 & 0 & 0 & 0 & v\n",
       "\\end{array}\\right] \\left[\\begin{array}{ccccc}\n",
       "0 & 0 & -\\frac{\\rho}{2 \\, c_{s}} & 0 & \\frac{1}{2 \\, c_{s}^{2}} \\\\\n",
       "0 & 0 & \\frac{\\rho}{2 \\, c_{s}} & 0 & \\frac{1}{2 \\, c_{s}^{2}} \\\\\n",
       "1 & 0 & 0 & 0 & -\\frac{1}{c_{s}^{2}} \\\\\n",
       "0 & 1 & 0 & 0 & 0 \\\\\n",
       "0 & 0 & 0 & 1 & 0\n",
       "\\end{array}\\right]</script></html>"
      ],
      "text/plain": [
       "\\left[\\begin{array}{ccccc}\n",
       "v & 0 & \\rho & 0 & 0 \\\\\n",
       "0 & v & 0 & 0 & 0 \\\\\n",
       "0 & 0 & v & 0 & \\frac{1}{\\rho} \\\\\n",
       "0 & 0 & 0 & v & 0 \\\\\n",
       "0 & 0 & c_{s}^{2} \\rho & 0 & v\n",
       "\\end{array}\\right] = \\left[\\begin{array}{ccccc}\n",
       "1 & 1 & 1 & 0 & 0 \\\\\n",
       "0 & 0 & 0 & 1 & 0 \\\\\n",
       "-\\frac{c_{s}}{\\rho} & \\frac{c_{s}}{\\rho} & 0 & 0 & 0 \\\\\n",
       "0 & 0 & 0 & 0 & 1 \\\\\n",
       "c_{s}^{2} & c_{s}^{2} & 0 & 0 & 0\n",
       "\\end{array}\\right] \\left[\\begin{array}{ccccc}\n",
       "-c_{s} + v & 0 & 0 & 0 & 0 \\\\\n",
       "0 & c_{s} + v & 0 & 0 & 0 \\\\\n",
       "0 & 0 & v & 0 & 0 \\\\\n",
       "0 & 0 & 0 & v & 0 \\\\\n",
       "0 & 0 & 0 & 0 & v\n",
       "\\end{array}\\right] \\left[\\begin{array}{ccccc}\n",
       "0 & 0 & -\\frac{\\rho}{2 \\, c_{s}} & 0 & \\frac{1}{2 \\, c_{s}^{2}} \\\\\n",
       "0 & 0 & \\frac{\\rho}{2 \\, c_{s}} & 0 & \\frac{1}{2 \\, c_{s}^{2}} \\\\\n",
       "1 & 0 & 0 & 0 & -\\frac{1}{c_{s}^{2}} \\\\\n",
       "0 & 1 & 0 & 0 & 0 \\\\\n",
       "0 & 0 & 0 & 1 & 0\n",
       "\\end{array}\\right]"
      ]
     },
     "metadata": {},
     "output_type": "display_data"
    }
   ],
   "source": [
    "# y-direction\n",
    "var('rho,u,v,w,theta,p,c,c_s,gamma')\n",
    "assume(c_s>0,rho>0,p>0,gamma>0)\n",
    "dfdq=Matrix(5,5,[v,0,rho      ,0,0,\n",
    "                 0,v,0        ,0,0,\n",
    "                 0,0,v        ,0,1/rho,\n",
    "                 0,0,0        ,v,0,\n",
    "                 0,0,rho*c_s^2,0,v])\n",
    "Lambda,R = dfdq.eigenmatrix_right()\n",
    "Lambda = Matrix(5,5,Lambda.list())\n",
    "L = (R^-1).simplify_full()\n",
    "R = R.subs(p=rho*c_s^2-c^2)\n",
    "L = L.subs(p=rho*c_s^2-c^2)\n",
    "Lambda = Lambda.subs(p=rho*c_s^2-c^2)\n",
    "\n",
    "show(latex(dfdq.simplify_full())+\"=\"+latex(R.simplify_full())+latex(Lambda.simplify_full())+latex(L.simplify_full()))"
   ]
  },
  {
   "cell_type": "code",
   "execution_count": 8,
   "metadata": {},
   "outputs": [
    {
     "data": {
      "text/html": [
       "<html><script type=\"math/tex; mode=display\">\\newcommand{\\Bold}[1]{\\mathbf{#1}}\\left[\\begin{array}{ccccc}\n",
       "w & 0 & 0 & \\rho & 0 \\\\\n",
       "0 & w & 0 & 0 & 0 \\\\\n",
       "0 & 0 & w & 0 & 0 \\\\\n",
       "0 & 0 & 0 & w & \\frac{1}{\\rho} \\\\\n",
       "0 & 0 & 0 & c_{s}^{2} \\rho & w\n",
       "\\end{array}\\right] = \\left[\\begin{array}{ccccc}\n",
       "1 & 1 & 1 & 0 & 0 \\\\\n",
       "0 & 0 & 0 & 1 & 0 \\\\\n",
       "0 & 0 & 0 & 0 & 1 \\\\\n",
       "-\\frac{c_{s}}{\\rho} & \\frac{c_{s}}{\\rho} & 0 & 0 & 0 \\\\\n",
       "c_{s}^{2} & c_{s}^{2} & 0 & 0 & 0\n",
       "\\end{array}\\right] \\left[\\begin{array}{ccccc}\n",
       "-c_{s} + w & 0 & 0 & 0 & 0 \\\\\n",
       "0 & c_{s} + w & 0 & 0 & 0 \\\\\n",
       "0 & 0 & w & 0 & 0 \\\\\n",
       "0 & 0 & 0 & w & 0 \\\\\n",
       "0 & 0 & 0 & 0 & w\n",
       "\\end{array}\\right] \\left[\\begin{array}{ccccc}\n",
       "0 & 0 & 0 & -\\frac{\\rho}{2 \\, c_{s}} & \\frac{1}{2 \\, c_{s}^{2}} \\\\\n",
       "0 & 0 & 0 & \\frac{\\rho}{2 \\, c_{s}} & \\frac{1}{2 \\, c_{s}^{2}} \\\\\n",
       "1 & 0 & 0 & 0 & -\\frac{1}{c_{s}^{2}} \\\\\n",
       "0 & 1 & 0 & 0 & 0 \\\\\n",
       "0 & 0 & 1 & 0 & 0\n",
       "\\end{array}\\right]</script></html>"
      ],
      "text/plain": [
       "\\left[\\begin{array}{ccccc}\n",
       "w & 0 & 0 & \\rho & 0 \\\\\n",
       "0 & w & 0 & 0 & 0 \\\\\n",
       "0 & 0 & w & 0 & 0 \\\\\n",
       "0 & 0 & 0 & w & \\frac{1}{\\rho} \\\\\n",
       "0 & 0 & 0 & c_{s}^{2} \\rho & w\n",
       "\\end{array}\\right] = \\left[\\begin{array}{ccccc}\n",
       "1 & 1 & 1 & 0 & 0 \\\\\n",
       "0 & 0 & 0 & 1 & 0 \\\\\n",
       "0 & 0 & 0 & 0 & 1 \\\\\n",
       "-\\frac{c_{s}}{\\rho} & \\frac{c_{s}}{\\rho} & 0 & 0 & 0 \\\\\n",
       "c_{s}^{2} & c_{s}^{2} & 0 & 0 & 0\n",
       "\\end{array}\\right] \\left[\\begin{array}{ccccc}\n",
       "-c_{s} + w & 0 & 0 & 0 & 0 \\\\\n",
       "0 & c_{s} + w & 0 & 0 & 0 \\\\\n",
       "0 & 0 & w & 0 & 0 \\\\\n",
       "0 & 0 & 0 & w & 0 \\\\\n",
       "0 & 0 & 0 & 0 & w\n",
       "\\end{array}\\right] \\left[\\begin{array}{ccccc}\n",
       "0 & 0 & 0 & -\\frac{\\rho}{2 \\, c_{s}} & \\frac{1}{2 \\, c_{s}^{2}} \\\\\n",
       "0 & 0 & 0 & \\frac{\\rho}{2 \\, c_{s}} & \\frac{1}{2 \\, c_{s}^{2}} \\\\\n",
       "1 & 0 & 0 & 0 & -\\frac{1}{c_{s}^{2}} \\\\\n",
       "0 & 1 & 0 & 0 & 0 \\\\\n",
       "0 & 0 & 1 & 0 & 0\n",
       "\\end{array}\\right]"
      ]
     },
     "metadata": {},
     "output_type": "display_data"
    }
   ],
   "source": [
    "# z-direction\n",
    "var('rho,u,v,w,theta,p,c,c_s,gamma')\n",
    "assume(c_s>0,rho>0,p>0,gamma>0)\n",
    "dfdq=Matrix(5,5,[w,0,0,rho      ,0,\n",
    "                 0,w,0,0        ,0,\n",
    "                 0,0,w,0        ,0,\n",
    "                 0,0,0,w        ,1/rho,\n",
    "                 0,0,0,rho*c_s^2,w])\n",
    "Lambda,R = dfdq.eigenmatrix_right()\n",
    "Lambda = Matrix(5,5,Lambda.list())\n",
    "L = (R^-1).simplify_full()\n",
    "R = R.subs(p=rho*c_s^2-c^2)\n",
    "L = L.subs(p=rho*c_s^2-c^2)\n",
    "Lambda = Lambda.subs(p=rho*c_s^2-c^2)\n",
    "\n",
    "show(latex(dfdq.simplify_full())+\"=\"+latex(R.simplify_full())+latex(Lambda.simplify_full())+latex(L.simplify_full()))"
   ]
  },
  {
   "cell_type": "code",
   "execution_count": null,
   "metadata": {},
   "outputs": [],
   "source": []
  }
 ],
 "metadata": {
  "kernelspec": {
   "display_name": "SageMath 8.1",
   "language": "",
   "name": "sagemath"
  },
  "language_info": {
   "codemirror_mode": {
    "name": "ipython",
    "version": 2
   },
   "file_extension": ".py",
   "mimetype": "text/x-python",
   "name": "python",
   "nbconvert_exporter": "python",
   "pygments_lexer": "ipython2",
   "version": "2.7.15+"
  }
 },
 "nbformat": 4,
 "nbformat_minor": 2
}
