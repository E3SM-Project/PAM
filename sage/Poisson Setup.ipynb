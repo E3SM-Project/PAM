{
 "cells": [
  {
   "cell_type": "code",
   "execution_count": 1,
   "metadata": {},
   "outputs": [],
   "source": [
    "\n",
    "#Generates a set of coefficients as a sage \"vector\"\n",
    "def coefs_1d(N,N0,lab) :\n",
    "    return vector([ var(lab+'%s'%i) for i in range(N0,N0+N) ])\n",
    "\n",
    "\n",
    "#Generates a 1-D polynomial as a sage expreession based on a set of coefficients\n",
    "def poly_1d(N,coefs,x) :\n",
    "    return sum( vector([ coefs[i]*x^i for i in range(N) ]) )\n",
    "\n",
    "latex.matrix_delimiters(\"[\", \"]\")\n",
    "latex.matrix_column_alignment(align='c')\n"
   ]
  },
  {
   "cell_type": "code",
   "execution_count": 3,
   "metadata": {},
   "outputs": [
    {
     "data": {
      "text/html": [
       "<html><script type=\"math/tex; mode=display\">\\newcommand{\\Bold}[1]{\\mathbf{#1}}\\frac{2 \\, {\\left(\\mathit{press}_{k} - \\mathit{press}_{\\mathit{km}_{2}}\\right)} \\rho_{\\mathit{km}_{1}} + {\\left(\\mathit{press}_{k} - \\mathit{press}_{\\mathit{km}_{1}}\\right)} \\rho_{\\mathit{km1o}_{2}} + {\\left(\\mathit{press}_{\\mathit{km}_{1}} - \\mathit{press}_{\\mathit{km}_{2}}\\right)} \\rho_{\\mathit{km3o}_{2}}}{6 \\, \\mathit{dx}}</script></html>"
      ],
      "text/plain": [
       "1/6*(2*(press_k - press_km2)*rho_km1 + (press_k - press_km1)*rho_km1o2 + (press_km1 - press_km2)*rho_km3o2)/dx"
      ]
     },
     "metadata": {},
     "output_type": "display_data"
    },
    {
     "name": "stdout",
     "output_type": "stream",
     "text": [
      "Vertical pressure weights for the Poisson problem:\n"
     ]
    },
    {
     "data": {
      "text/html": [
       "<html><script type=\"math/tex; mode=display\">\\newcommand{\\Bold}[1]{\\mathbf{#1}}\\left[\\begin{array}{c}\n",
       "\\frac{2 \\, \\mathit{dt} \\rho_{\\mathit{km}_{1}} + \\mathit{dt} \\rho_{\\mathit{km3o}_{2}}}{12 \\, \\mathit{dx}} \\\\\n",
       "\\frac{\\mathit{dt} \\rho_{\\mathit{km1o}_{2}} - \\mathit{dt} \\rho_{\\mathit{km3o}_{2}}}{12 \\, \\mathit{dx}} \\\\\n",
       "-\\frac{2 \\, \\mathit{dt} \\rho_{\\mathit{km}_{1}} + \\mathit{dt} \\rho_{\\mathit{km1o}_{2}} + 2 \\, \\mathit{dt} \\rho_{\\mathit{kp}_{1}} + \\mathit{dt} \\rho_{\\mathit{kp1o}_{2}}}{12 \\, \\mathit{dx}} \\\\\n",
       "\\frac{\\mathit{dt} \\rho_{\\mathit{kp1o}_{2}} - \\mathit{dt} \\rho_{\\mathit{kp3o}_{2}}}{12 \\, \\mathit{dx}} \\\\\n",
       "\\frac{2 \\, \\mathit{dt} \\rho_{\\mathit{kp}_{1}} + \\mathit{dt} \\rho_{\\mathit{kp3o}_{2}}}{12 \\, \\mathit{dx}}\n",
       "\\end{array}\\right]</script></html>"
      ],
      "text/plain": [
       "[                               1/12*(2*dt*rho_km1 + dt*rho_km3o2)/dx]\n",
       "[                               1/12*(dt*rho_km1o2 - dt*rho_km3o2)/dx]\n",
       "[-1/12*(2*dt*rho_km1 + dt*rho_km1o2 + 2*dt*rho_kp1 + dt*rho_kp1o2)/dx]\n",
       "[                               1/12*(dt*rho_kp1o2 - dt*rho_kp3o2)/dx]\n",
       "[                               1/12*(2*dt*rho_kp1 + dt*rho_kp3o2)/dx]"
      ]
     },
     "metadata": {},
     "output_type": "display_data"
    },
    {
     "name": "stdout",
     "output_type": "stream",
     "text": [
      "\n",
      "Horizontal pressure weights for the Poisson problem:\n"
     ]
    },
    {
     "data": {
      "text/html": [
       "<html><script type=\"math/tex; mode=display\">\\newcommand{\\Bold}[1]{\\mathbf{#1}}\\left[\\begin{array}{c}\n",
       "\\frac{\\mathit{dt} \\rho_{k}}{4 \\, \\mathit{dx}} \\\\\n",
       "0 \\\\\n",
       "-\\frac{\\mathit{dt} \\rho_{k}}{2 \\, \\mathit{dx}} \\\\\n",
       "0 \\\\\n",
       "\\frac{\\mathit{dt} \\rho_{k}}{4 \\, \\mathit{dx}}\n",
       "\\end{array}\\right]</script></html>"
      ],
      "text/plain": [
       "[ 1/4*dt*rho_k/dx]\n",
       "[               0]\n",
       "[-1/2*dt*rho_k/dx]\n",
       "[               0]\n",
       "[ 1/4*dt*rho_k/dx]"
      ]
     },
     "metadata": {},
     "output_type": "display_data"
    },
    {
     "name": "stdout",
     "output_type": "stream",
     "text": [
      "\n",
      "Momentum weights:\n"
     ]
    },
    {
     "data": {
      "text/html": [
       "<html><script type=\"math/tex; mode=display\">\\newcommand{\\Bold}[1]{\\mathbf{#1}}\\left[\\begin{array}{c}\n",
       "-\\frac{1}{2} \\\\\n",
       "0 \\\\\n",
       "\\frac{1}{2}\n",
       "\\end{array}\\right]</script></html>"
      ],
      "text/plain": [
       "[-1/2]\n",
       "[   0]\n",
       "[ 1/2]"
      ]
     },
     "metadata": {},
     "output_type": "display_data"
    },
    {
     "name": "stdout",
     "output_type": "stream",
     "text": [
      "Vertical pressure weights for pressure gradient application:\n"
     ]
    },
    {
     "data": {
      "text/html": [
       "<html><script type=\"math/tex; mode=display\">\\newcommand{\\Bold}[1]{\\mathbf{#1}}\\left[\\begin{array}{c}\n",
       "0 \\\\\n",
       "-\\frac{2 \\, \\rho_{k} + \\rho_{\\mathit{km1o}_{2}}}{6 \\, \\mathit{dx}} \\\\\n",
       "\\frac{\\rho_{\\mathit{km1o}_{2}} - \\rho_{\\mathit{kp1o}_{2}}}{6 \\, \\mathit{dx}} \\\\\n",
       "\\frac{2 \\, \\rho_{k} + \\rho_{\\mathit{kp1o}_{2}}}{6 \\, \\mathit{dx}} \\\\\n",
       "0\n",
       "\\end{array}\\right]</script></html>"
      ],
      "text/plain": [
       "[                             0]\n",
       "[ -1/6*(2*rho_k + rho_km1o2)/dx]\n",
       "[1/6*(rho_km1o2 - rho_kp1o2)/dx]\n",
       "[  1/6*(2*rho_k + rho_kp1o2)/dx]\n",
       "[                             0]"
      ]
     },
     "metadata": {},
     "output_type": "display_data"
    },
    {
     "name": "stdout",
     "output_type": "stream",
     "text": [
      "Horizontal pressure weights for pressure gradient application:\n"
     ]
    },
    {
     "data": {
      "text/html": [
       "<html><script type=\"math/tex; mode=display\">\\newcommand{\\Bold}[1]{\\mathbf{#1}}\\left[\\begin{array}{c}\n",
       "0 \\\\\n",
       "-\\frac{\\rho_{k}}{2 \\, \\mathit{dx}} \\\\\n",
       "0 \\\\\n",
       "\\frac{\\rho_{k}}{2 \\, \\mathit{dx}} \\\\\n",
       "0\n",
       "\\end{array}\\right]</script></html>"
      ],
      "text/plain": [
       "[            0]\n",
       "[-1/2*rho_k/dx]\n",
       "[            0]\n",
       "[ 1/2*rho_k/dx]\n",
       "[            0]"
      ]
     },
     "metadata": {},
     "output_type": "display_data"
    }
   ],
   "source": [
    "var('rho_km3o2,rho_km1,rho_km1o2,rho_k,rho_kp1o2,rho_kp1,rho_kp3o2,dt,dx')\n",
    "var('press_km2,press_km1,press_k,press_kp1,press_kp2')\n",
    "\n",
    "# Assign gll points & weights over the domain [-0.5,0.5]\n",
    "gllWts = vector([1/6 , 4/6 , 1/6])\n",
    "\n",
    "# Create Pressure values over the 5-cell stencil\n",
    "press = vector([press_km2,press_km1,press_k,press_kp1,press_kp2])\n",
    "\n",
    "# Stencil to coefs left\n",
    "coefs = coefs_1d(3,0,'a')\n",
    "p = poly_1d(3,coefs,x)\n",
    "constr = vector([0*x for i in range(3)])\n",
    "constr[0] = integrate(p,x,-5*dx/2,-3*dx/2)/dx\n",
    "constr[1] = integrate(p,x,-3*dx/2,-1*dx/2)/dx\n",
    "constr[2] = integrate(p,x,-1*dx/2, 1*dx/2)/dx\n",
    "coefs_to_constr = jacobian(constr,coefs)\n",
    "s2c_left = coefs_to_constr^-1\n",
    "\n",
    "# Stencil to coefs middle\n",
    "coefs = coefs_1d(3,0,'a')\n",
    "p = poly_1d(3,coefs,x)\n",
    "constr = vector([0*x for i in range(3)])\n",
    "constr[0] = integrate(p,x,-3*dx/2,-1*dx/2)/dx\n",
    "constr[1] = integrate(p,x,-1*dx/2, 1*dx/2)/dx\n",
    "constr[2] = integrate(p,x, 1*dx/2, 3*dx/2)/dx\n",
    "coefs_to_constr = jacobian(constr,coefs)\n",
    "s2c_middle = coefs_to_constr^-1\n",
    "\n",
    "# Stencil to coefs right\n",
    "coefs = coefs_1d(3,0,'a')\n",
    "p = poly_1d(3,coefs,x)\n",
    "constr = vector([0*x for i in range(3)])\n",
    "constr[0] = integrate(p,x,-1*dx/2, 1*dx/2)/dx\n",
    "constr[1] = integrate(p,x, 1*dx/2, 3*dx/2)/dx\n",
    "constr[2] = integrate(p,x, 3*dx/2, 5*dx/2)/dx\n",
    "coefs_to_constr = jacobian(constr,coefs)\n",
    "s2c_right = coefs_to_constr^-1\n",
    "\n",
    "##########################\n",
    "# p_star in left cell\n",
    "##########################\n",
    "# Create matrix to convert \n",
    "coefs = s2c_left * press[0:3]\n",
    "p = poly_1d(3,coefs,x)\n",
    "pnt1 = diff(p,x).subs(x=-3*dx/2)\n",
    "pnt2 = diff(p,x).subs(x=-1*dx)\n",
    "pnt3 = diff(p,x).subs(x=-1*dx/2)\n",
    "pstar_left = gllWts[0]*rho_km3o2*pnt1 + gllWts[1]*rho_km1*pnt2 + gllWts[2]*rho_km1o2*pnt3\n",
    "\n",
    "show(pstar_left.simplify_full())\n",
    "\n",
    "##########################\n",
    "# p_star in middle cell\n",
    "##########################\n",
    "# Create matrix to convert \n",
    "coefs = s2c_middle * press[1:4]\n",
    "p = poly_1d(3,coefs,x)\n",
    "pnt1 = diff(p,x).subs(x=-1*dx/2)\n",
    "pnt2 = diff(p,x).subs(x= 0*dx)\n",
    "pnt3 = diff(p,x).subs(x= 1*dx/2)\n",
    "pstar_middle = gllWts[0]*rho_km1o2*pnt1 + gllWts[1]*rho_k*pnt2 + gllWts[2]*rho_kp1o2*pnt3\n",
    "\n",
    "##########################\n",
    "# p_star in right cell\n",
    "##########################\n",
    "# Create matrix to convert \n",
    "coefs = s2c_right * press[2:5]\n",
    "p = poly_1d(3,coefs,x)\n",
    "pnt1 = diff(p,x).subs(x=1*dx/2)\n",
    "pnt2 = diff(p,x).subs(x=1*dx)\n",
    "pnt3 = diff(p,x).subs(x=3*dx/2)\n",
    "pstar_right = gllWts[0]*rho_kp1o2*pnt1 + gllWts[1]*rho_kp1*pnt2 + gllWts[2]*rho_kp3o2*pnt3\n",
    "\n",
    "\n",
    "##################################\n",
    "# Integrated derivative of pstar\n",
    "##################################\n",
    "pstar = vector([pstar_left,pstar_middle,pstar_right])\n",
    "coefs = s2c_middle * pstar\n",
    "p = poly_1d(3,coefs,x)\n",
    "expr = dt * ( p.subs(x=dx/2) - p.subs(x=-dx/2) )\n",
    "\n",
    "# Get the weights to the pressure terms\n",
    "weights = jacobian(expr,press)\n",
    "print(\"Vertical pressure weights for the Poisson problem:\")\n",
    "show(weights.simplify_full().transpose())\n",
    "\n",
    "print(\"\\nHorizontal pressure weights for the Poisson problem:\")\n",
    "show(weights.subs(rho_km3o2=rho_k,rho_km1=rho_k,rho_km1o2=rho_k,rho_kp1o2=rho_k,rho_kp1=rho_k,rho_kp3o2=rho_k).transpose())\n",
    "\n",
    "# Confirm the weights are symmetric in the end\n",
    "if (weights*vector([1,1,1,1,1])).simplify_full() != 0:\n",
    "    print(\"ERROR: pressure weights are not consistent\")\n",
    "\n",
    "########################################\n",
    "# Now compute momentum divergence term\n",
    "########################################\n",
    "var('mom_km1,mom_k,mom_kp1')\n",
    "mom = vector([mom_km1,mom_k,mom_kp1])\n",
    "coefs = s2c_middle * mom\n",
    "p = poly_1d(3,coefs,x)\n",
    "expr = p.subs(x=dx/2) - p.subs(x=-dx/2)\n",
    "weights = jacobian(expr,mom)\n",
    "print(\"\\nMomentum weights:\")\n",
    "show(weights.simplify_full().transpose())\n",
    "\n",
    "if (weights*vector([1,1,1])).simplify_full() != 0 :\n",
    "    print(\"ERROR: momentum weights are not consistent\")\n",
    "    \n",
    "########################################\n",
    "# Pressure application weights\n",
    "########################################\n",
    "print(\"Vertical pressure weights for pressure gradient application:\")\n",
    "expr = pstar_middle\n",
    "weights = jacobian(expr,press)\n",
    "show(weights.simplify_full().transpose())\n",
    "\n",
    "print(\"Horizontal pressure weights for pressure gradient application:\")\n",
    "expr = pstar_middle\n",
    "weights = jacobian(expr,press)\n",
    "show(weights.subs(rho_km3o2=rho_k,rho_km1=rho_k,rho_km1o2=rho_k,rho_kp1o2=rho_k,rho_kp1=rho_k,rho_kp3o2=rho_k).simplify_full().transpose())"
   ]
  },
  {
   "cell_type": "code",
   "execution_count": null,
   "metadata": {},
   "outputs": [],
   "source": [
    "var('rho_km3o2,rho_km1,rho_km1o2,rho_k,rho_kp1o2,rho_kp1,rho_kp3o2,dt,dx')\n",
    "var('press_km2,press_km1,press_k,press_kp1,press_kp2')\n",
    "\n",
    "# Assign gll points & weights over the domain [-0.5,0.5]\n",
    "gllWts = vector([1/6 , 4/6 , 1/6])\n",
    "\n",
    "# Create Pressure values over the 5-cell stencil\n",
    "press = vector([press_km2,press_km1,press_k,press_kp1,press_kp2])\n",
    "\n",
    "# Stencil to coefs left\n",
    "coefs = coefs_1d(3,0,'a')\n",
    "p = poly_1d(3,coefs,x)\n",
    "constr = vector([0*x for i in range(3)])\n",
    "constr[0] = integrate(p,x,-5*dx/2,-3*dx/2)/dx\n",
    "constr[1] = integrate(p,x,-3*dx/2,-1*dx/2)/dx\n",
    "constr[2] = integrate(p,x,-1*dx/2, 1*dx/2)/dx\n",
    "coefs_to_constr = jacobian(constr,coefs)\n",
    "s2c_left = coefs_to_constr^-1\n",
    "\n",
    "# Stencil to coefs middle\n",
    "coefs = coefs_1d(3,0,'a')\n",
    "p = poly_1d(3,coefs,x)\n",
    "constr = vector([0*x for i in range(3)])\n",
    "constr[0] = integrate(p,x,-3*dx/2,-1*dx/2)/dx\n",
    "constr[1] = integrate(p,x,-1*dx/2, 1*dx/2)/dx\n",
    "constr[2] = integrate(p,x, 1*dx/2, 3*dx/2)/dx\n",
    "coefs_to_constr = jacobian(constr,coefs)\n",
    "s2c_middle = coefs_to_constr^-1\n",
    "\n",
    "# Stencil to coefs right\n",
    "coefs = coefs_1d(3,0,'a')\n",
    "p = poly_1d(3,coefs,x)\n",
    "constr = vector([0*x for i in range(3)])\n",
    "constr[0] = integrate(p,x,-1*dx/2, 1*dx/2)/dx\n",
    "constr[1] = integrate(p,x, 1*dx/2, 3*dx/2)/dx\n",
    "constr[2] = integrate(p,x, 3*dx/2, 5*dx/2)/dx\n",
    "coefs_to_constr = jacobian(constr,coefs)\n",
    "s2c_right = coefs_to_constr^-1\n",
    "\n",
    "##########################\n",
    "# p_star in left cell\n",
    "##########################\n",
    "# Create matrix to convert \n",
    "coefs = s2c_left * press[0:3]\n",
    "p = poly_1d(3,coefs,x)\n",
    "pnt1 = diff(p,x).subs(x=-3*dx/2)\n",
    "pnt2 = diff(p,x).subs(x=-1*dx)\n",
    "pnt3 = diff(p,x).subs(x=-1*dx/2)\n",
    "pstar_left = gllWts[0]*rho_km3o2*pnt1 + gllWts[1]*rho_km1*pnt2 + gllWts[2]*rho_km1o2*pnt3\n",
    "\n",
    "show(pstar_left.simplify_full())\n",
    "\n",
    "##########################\n",
    "# p_star in middle cell\n",
    "##########################\n",
    "# Create matrix to convert \n",
    "coefs = s2c_middle * press[1:4]\n",
    "p = poly_1d(3,coefs,x)\n",
    "pnt1 = diff(p,x).subs(x=-1*dx/2)\n",
    "pnt2 = diff(p,x).subs(x= 0*dx)\n",
    "pnt3 = diff(p,x).subs(x= 1*dx/2)\n",
    "pstar_middle = gllWts[0]*rho_km1o2*pnt1 + gllWts[1]*rho_k*pnt2 + gllWts[2]*rho_kp1o2*pnt3\n",
    "\n",
    "##########################\n",
    "# p_star in right cell\n",
    "##########################\n",
    "# Create matrix to convert \n",
    "coefs = s2c_right * press[2:5]\n",
    "p = poly_1d(3,coefs,x)\n",
    "pnt1 = diff(p,x).subs(x=1*dx/2)\n",
    "pnt2 = diff(p,x).subs(x=1*dx)\n",
    "pnt3 = diff(p,x).subs(x=3*dx/2)\n",
    "pstar_right = gllWts[0]*rho_kp1o2*pnt1 + gllWts[1]*rho_kp1*pnt2 + gllWts[2]*rho_kp3o2*pnt3\n",
    "\n",
    "\n",
    "##################################\n",
    "# Integrated derivative of pstar\n",
    "##################################\n",
    "pstar = vector([pstar_left,pstar_middle,pstar_right])\n",
    "coefs = s2c_middle * pstar\n",
    "p = poly_1d(3,coefs,x)\n",
    "expr = dt * ( p.subs(x=dx/2) - p.subs(x=-dx/2) )\n",
    "\n",
    "# Get the weights to the pressure terms\n",
    "weights = jacobian(expr,press)\n",
    "print(\"Vertical pressure weights for the Poisson problem:\")\n",
    "show(weights.simplify_full().transpose())\n",
    "\n",
    "print(\"\\nHorizontal pressure weights for the Poisson problem:\")\n",
    "show(weights.subs(rho_km3o2=rho_k,rho_km1=rho_k,rho_km1o2=rho_k,rho_kp1o2=rho_k,rho_kp1=rho_k,rho_kp3o2=rho_k).transpose())\n",
    "\n",
    "# Confirm the weights are symmetric in the end\n",
    "if (weights*vector([1,1,1,1,1])).simplify_full() != 0:\n",
    "    print(\"ERROR: pressure weights are not consistent\")\n",
    "\n",
    "########################################\n",
    "# Now compute momentum divergence term\n",
    "########################################\n",
    "var('mom_km1,mom_k,mom_kp1')\n",
    "mom = vector([mom_km1,mom_k,mom_kp1])\n",
    "coefs = s2c_middle * mom\n",
    "p = poly_1d(3,coefs,x)\n",
    "expr = p.subs(x=dx/2) - p.subs(x=-dx/2)\n",
    "weights = jacobian(expr,mom)\n",
    "print(\"\\nMomentum weights:\")\n",
    "show(weights.simplify_full().transpose())\n",
    "\n",
    "if (weights*vector([1,1,1])).simplify_full() != 0 :\n",
    "    print(\"ERROR: momentum weights are not consistent\")\n",
    "    \n",
    "########################################\n",
    "# Pressure application weights\n",
    "########################################\n",
    "print(\"Vertical pressure weights for pressure gradient application:\")\n",
    "expr = pstar_middle\n",
    "weights = jacobian(expr,press)\n",
    "show(weights.simplify_full().transpose())\n",
    "\n",
    "print(\"Horizontal pressure weights for pressure gradient application:\")\n",
    "expr = pstar_middle\n",
    "weights = jacobian(expr,press)\n",
    "show(weights.subs(rho_km3o2=rho_k,rho_km1=rho_k,rho_km1o2=rho_k,rho_kp1o2=rho_k,rho_kp1=rho_k,rho_kp3o2=rho_k).simplify_full().transpose())"
   ]
  }
 ],
 "metadata": {
  "kernelspec": {
   "display_name": "SageMath 8.8",
   "language": "sage",
   "name": "sagemath"
  },
  "language_info": {
   "codemirror_mode": {
    "name": "ipython",
    "version": 2
   },
   "file_extension": ".py",
   "mimetype": "text/x-python",
   "name": "python",
   "nbconvert_exporter": "python",
   "pygments_lexer": "ipython2",
   "version": "2.7.15"
  }
 },
 "nbformat": 4,
 "nbformat_minor": 2
}
